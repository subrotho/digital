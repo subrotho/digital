{
 "cells": [
  {
   "cell_type": "code",
   "execution_count": 1,
   "id": "98dc97bb",
   "metadata": {},
   "outputs": [],
   "source": [
    "import sys\n",
    "from PIL import Image"
   ]
  },
  {
   "cell_type": "code",
   "execution_count": 3,
   "id": "ca733c09",
   "metadata": {},
   "outputs": [],
   "source": [
    "# Sum of the min & max of (a, b, c)\n",
    "def hilo(a, b, c):\n",
    "    if c < b: b, c = c, b\n",
    "    if b < a: a, b = b, a\n",
    "    if c < b: b, c = c, b\n",
    "    return a + c\n",
    "\n",
    "def complement(r, g, b):\n",
    "    k = hilo(r, g, b)\n",
    "    return tuple(k - u for u in (r, g, b))\n",
    "\n",
    "def complement_image(iname, oname):\n",
    "    print('Loading', iname)\n",
    "    img = Image.open(iname)\n",
    "    #img.show()\n",
    "\n",
    "    size = img.size\n",
    "    mode = img.mode\n",
    "    in_data = img.getdata()\n",
    "\n",
    "    print('Complementing...')\n",
    "    out_img = Image.new(mode, size)\n",
    "    out_img.putdata([complement(*rgb) for rgb in in_data])\n",
    "    out_img.show()\n",
    "    out_img.save(oname)\n",
    "    print('Saved to', oname)"
   ]
  },
  {
   "cell_type": "code",
   "execution_count": 5,
   "id": "30311c60",
   "metadata": {},
   "outputs": [
    {
     "name": "stdout",
     "output_type": "stream",
     "text": [
      "Loading /home/subrothok/Pictures/Wallpapers/-MG-3344.JPG\n",
      "Complementing...\n",
      "Saved to /home/subrothok/Pictures/Wallpapers/inverted.JPG\n"
     ]
    }
   ],
   "source": [
    "complement_image('/home/subrothok/Pictures/Wallpapers/-MG-3344.JPG','/home/subrothok/Pictures/Wallpapers/inverted.JPG')"
   ]
  }
 ],
 "metadata": {
  "kernelspec": {
   "display_name": "Python 3 (ipykernel)",
   "language": "python",
   "name": "python3"
  },
  "language_info": {
   "codemirror_mode": {
    "name": "ipython",
    "version": 3
   },
   "file_extension": ".py",
   "mimetype": "text/x-python",
   "name": "python",
   "nbconvert_exporter": "python",
   "pygments_lexer": "ipython3",
   "version": "3.9.7"
  }
 },
 "nbformat": 4,
 "nbformat_minor": 5
}
